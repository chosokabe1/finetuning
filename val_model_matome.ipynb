{
 "cells": [
  {
   "cell_type": "code",
   "execution_count": 1,
   "metadata": {},
   "outputs": [
    {
     "name": "stderr",
     "output_type": "stream",
     "text": [
      "c:\\ex\\sen\\.sen\\lib\\site-packages\\tqdm\\auto.py:22: TqdmWarning: IProgress not found. Please update jupyter and ipywidgets. See https://ipywidgets.readthedocs.io/en/stable/user_install.html\n",
      "  from .autonotebook import tqdm as notebook_tqdm\n"
     ]
    },
    {
     "name": "stdout",
     "output_type": "stream",
     "text": [
      "Loaded pretrained weights for efficientnet-b7\n",
      "0\n"
     ]
    }
   ],
   "source": [
    "import val_model\n",
    "import finetuning_hy\n",
    "import torch\n",
    "import modules\n",
    "import torch.optim as optim\n",
    "import os\n",
    "\n",
    "output_name = \"hoge\"\n",
    "output_base_dir = \"runs\\\\train\"\n",
    "out_dir = os.path.join(output_base_dir,output_name)\n",
    "\n",
    "model, input_size = finetuning_hy.initialize_model(model_name=\"efficientnetb7\", num_classes=2, feature_extract=False, use_pretrained=True)\n",
    "model.load_state_dict(torch.load(\"runs\\\\train\\egg600\\model_weights.pth\"))\n",
    "dataloaders_dict, class_names = modules.data_load(input_size=input_size,data_dir=\"..\\data\\is_it_egg\",batch_size=1)\n",
    "\n",
    "device = torch.device(\"cuda:0\" if torch.cuda.is_available() else \"cpu\")\n",
    "model = model.to(device)\n",
    "val_model.val(model=model, dataloaders=dataloaders_dict, class_names=class_names,out_dir=out_dir)"
   ]
  }
 ],
 "metadata": {
  "kernelspec": {
   "display_name": "Python 3.8.10 ('.sen': venv)",
   "language": "python",
   "name": "python3"
  },
  "language_info": {
   "codemirror_mode": {
    "name": "ipython",
    "version": 3
   },
   "file_extension": ".py",
   "mimetype": "text/x-python",
   "name": "python",
   "nbconvert_exporter": "python",
   "pygments_lexer": "ipython3",
   "version": "3.8.10"
  },
  "orig_nbformat": 4,
  "vscode": {
   "interpreter": {
    "hash": "52c25e5d2c0298585f6976033ea699090aee416a2ac953fc04a260c1a5416d53"
   }
  }
 },
 "nbformat": 4,
 "nbformat_minor": 2
}
